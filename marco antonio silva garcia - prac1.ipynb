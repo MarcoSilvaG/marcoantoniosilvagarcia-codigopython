{
 "cells": [
  {
   "cell_type": "code",
   "execution_count": 39,
   "id": "9ea9be86",
   "metadata": {},
   "outputs": [
    {
     "name": "stdout",
     "output_type": "stream",
     "text": [
      "   //\\ \n",
      "  //__\\ \n",
      "  ||  | |\n",
      "  ||__| |\n"
     ]
    }
   ],
   "source": [
    "print(r'   //\\ ')\n",
    "print(r'  //__\\ ')\n",
    "print(\"  ||  | |\")\n",
    "print(\"  ||__| |\")"
   ]
  },
  {
   "cell_type": "code",
   "execution_count": 14,
   "id": "76159333",
   "metadata": {},
   "outputs": [
    {
     "name": "stdout",
     "output_type": "stream",
     "text": [
      "¿cual es tu nombre?: jose\n",
      "¿cual es tu numero telefonico?: 12345\n",
      "¿cual es tu correo electronico?: mailde prueba\n",
      "bienvenido! jose tu numero telefonico registrado es: 12345 tu correo electronico regsitrado es: mailde prueba recuerda conservar estos datos para cualquier aclaracion.\n"
     ]
    }
   ],
   "source": [
    "nom = input(\"¿cual es tu nombre?: \")\n",
    "tel = input(\"¿cual es tu numero telefonico?: \")\n",
    "email = input (\"¿cual es tu correo electronico?: \")\n",
    "print (\"bienvenido! \" + nom + \" tu numero telefonico registrado es: \" + tel + \" tu correo electronico regsitrado es: \" + email + \" recuerda conservar estos datos para cualquier aclaracion.\")"
   ]
  },
  {
   "cell_type": "code",
   "execution_count": 16,
   "id": "3d6ed8ff",
   "metadata": {},
   "outputs": [
    {
     "name": "stdout",
     "output_type": "stream",
     "text": [
      "¿cual es el valor de la primer resistencia?: 60\n",
      "¿cual es el valor de la segunda resistencia?: 120\n",
      "el valor total de la resitencia es: 40.0\n"
     ]
    }
   ],
   "source": [
    "res1 = float(input(\"¿cual es el valor de la primer resistencia?: \"))\n",
    "res2 = float (input(\"¿cual es el valor de la segunda resistencia?: \"))\n",
    "resul = (res1*res2)/(res1+res2)\n",
    "print (\"el valor total de la resitencia es: \" + str(resul)) "
   ]
  },
  {
   "cell_type": "code",
   "execution_count": 21,
   "id": "b580c12f",
   "metadata": {},
   "outputs": [
    {
     "name": "stdout",
     "output_type": "stream",
     "text": [
      "fila0, columna0 :2\n",
      "fila0, columna1 :2\n",
      "fila1, columna0 :1\n",
      "fila1, columna1 :2\n",
      "2.0\n"
     ]
    }
   ],
   "source": [
    "n=[]\n",
    "f=2\n",
    "c=2\n",
    "for i in range(f):\n",
    "    n.append([])\n",
    "    for p in range(c):\n",
    "        val=float(input(\"fila{}, columna{} :\" .format(i,p)))\n",
    "        n[i].append(val)\n",
    "r=(n[0][0] * n[1][1]) - (n[0][1] * n[1][0])\n",
    "print(r)"
   ]
  },
  {
   "cell_type": "code",
   "execution_count": 40,
   "id": "18a0a8d2",
   "metadata": {},
   "outputs": [
    {
     "name": "stdout",
     "output_type": "stream",
     "text": [
      "[[ 5.]\n",
      " [ 3.]\n",
      " [-2.]]\n"
     ]
    }
   ],
   "source": [
    "import numpy as a\n",
    "var= a.array([[4, 3, 2], \n",
    "              [-2, 2, 3],\n",
    "              [3, -5, 2]])\n",
    "res= a.array([[25],\n",
    "              [-10],\n",
    "              [-4]])\n",
    "\n",
    "sol = a.linalg.inv(var).dot(res)\n",
    "print(sol)"
   ]
  },
  {
   "cell_type": "code",
   "execution_count": 24,
   "id": "f0772011",
   "metadata": {},
   "outputs": [
    {
     "name": "stdout",
     "output_type": "stream",
     "text": [
      "¿cual es el numero a analizar?3\n",
      "el numero ingresado es positivo\n"
     ]
    }
   ],
   "source": [
    "num = input(\"¿cual es el numero a analizar?\")\n",
    "num = int (num)\n",
    "if num > 1:\n",
    "    print(\"el numero ingresado es positivo\")\n",
    "elif num < 0:\n",
    "    print (\"el numero ingresado es negativo\")\n",
    "elif num == 0:\n",
    "    print(\"el numero ingresado es 0 \")"
   ]
  },
  {
   "cell_type": "code",
   "execution_count": 28,
   "id": "998ea0ae",
   "metadata": {},
   "outputs": [
    {
     "name": "stdout",
     "output_type": "stream",
     "text": [
      "¿cual es tu nombre? jose \n",
      "¿cual es tu edad? 45\n",
      "¿cual es tu sueldo mensual? 6000\n",
      "¿cual es tu gasto mensual? 2000\n",
      "¿cual es la cantidad que deseas solicitar? 3000\n",
      "¿a cuantos meses te gustaria el prestamo? 5\n",
      "felicitaciones! jose cumples con los requisitos para el credito\n"
     ]
    }
   ],
   "source": [
    "nombre = input(\"¿cual es tu nombre? \")\n",
    "edad = int(input(\"¿cual es tu edad? \"))\n",
    "sueldo = int(input(\"¿cual es tu sueldo mensual? \"))\n",
    "gastos = int(input(\"¿cual es tu gasto mensual? \"))\n",
    "presta = int(input(\"¿cual es la cantidad que deseas solicitar? \"))\n",
    "pago = int(input(\"¿a cuantos meses te gustaria el prestamo? \"))\n",
    "\n",
    "edad = int(edad)\n",
    "sueldo = int(sueldo)\n",
    "gastos = int(gastos)\n",
    "presta = int(presta)\n",
    "pago = int(pago)\n",
    "\n",
    "res = sueldo - gastos\n",
    "cuota = presta / pago\n",
    "\n",
    "if edad < 18 or sueldo < gastos or res < cuota:\n",
    "    print (\"lo siento\" + nombre + \" no cumples con los requisitos necesarios para obtener el credito\")\n",
    "else : \n",
    "    print (\"felicitaciones! \" + nombre + \"cumples con los requisitos para el credito\")"
   ]
  },
  {
   "cell_type": "code",
   "execution_count": 35,
   "id": "db1d119f",
   "metadata": {},
   "outputs": [
    {
     "name": "stdout",
     "output_type": "stream",
     "text": [
      "*  \n",
      "*  *  \n",
      "*  *  *  \n",
      "*  *  *  *  \n",
      "*  *  *  *  *  \n",
      "*  *  *  *  \n",
      "*  *  *  \n",
      "*  *  \n",
      "*  \n",
      "\n"
     ]
    }
   ],
   "source": [
    "t = 5\n",
    "for n in range(t):\n",
    "    sep= t-n-1\n",
    "    a= 1 + n * 1\n",
    "    print(\"\"*sep+\"*  \"*a)\n",
    "    if a == 5:\n",
    "        sep=0\n",
    "        a=5\n",
    "        for n in range(t):\n",
    "            sep=sep+1\n",
    "            a = a-1\n",
    "            print(\"\"*sep+\"*  \"*a)"
   ]
  },
  {
   "cell_type": "code",
   "execution_count": 37,
   "id": "8f5da2b6",
   "metadata": {},
   "outputs": [
    {
     "name": "stdout",
     "output_type": "stream",
     "text": [
      "¿cual es la palabra que desea invertir?hola\n",
      "aloh\n"
     ]
    }
   ],
   "source": [
    "palabra = input(\"¿cual es la palabra que desea invertir?\")\n",
    "r = \"\"\n",
    "for i in palabra:\n",
    "    r = i + r\n",
    "print (r)"
   ]
  },
  {
   "cell_type": "code",
   "execution_count": 38,
   "id": "4e7c0fac",
   "metadata": {},
   "outputs": [
    {
     "name": "stdout",
     "output_type": "stream",
     "text": [
      "[0, 1, 2, 4, 5]\n"
     ]
    }
   ],
   "source": [
    "numeros = [0,1,2,3,4,5,6]\n",
    "numeros.remove(3)\n",
    "numeros.remove(6)\n",
    "print(numeros)"
   ]
  },
  {
   "cell_type": "code",
   "execution_count": null,
   "id": "e7e3b925",
   "metadata": {},
   "outputs": [],
   "source": []
  }
 ],
 "metadata": {
  "kernelspec": {
   "display_name": "Python 3",
   "language": "python",
   "name": "python3"
  },
  "language_info": {
   "codemirror_mode": {
    "name": "ipython",
    "version": 3
   },
   "file_extension": ".py",
   "mimetype": "text/x-python",
   "name": "python",
   "nbconvert_exporter": "python",
   "pygments_lexer": "ipython3",
   "version": "3.8.8"
  }
 },
 "nbformat": 4,
 "nbformat_minor": 5
}
